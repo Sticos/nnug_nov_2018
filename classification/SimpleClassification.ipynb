{
 "cells": [
  {
   "cell_type": "markdown",
   "metadata": {},
   "source": [
    "# Enkel klassifisering\n",
    "\n",
    "Har tar vi et enkelt sett med setninger som skal havne i tre forskjellige klasser.\n",
    "\n",
    "    <table>\n",
    "        <tr>\n",
    "            <th>klassse</th><th>mening/intent</th>\n",
    "        </tr>\n",
    "        <tr>\n",
    "            <td>0</td><td>hilsen</td>\n",
    "        </tr>\n",
    "        <tr>\n",
    "            <td>1</td><td>farvel</td>\n",
    "        </tr>\n",
    "        <tr>\n",
    "            <td>2</td><td>spørsmål</td>\n",
    "        </tr>    \n",
    "    </table>\n",
    "\n",
    "Vi starter med å laste biblioteker"
   ]
  },
  {
   "cell_type": "code",
   "execution_count": 1,
   "metadata": {
    "collapsed": true
   },
   "outputs": [],
   "source": [
    "from sklearn.feature_extraction.text import CountVectorizer\n",
    "from sklearn.naive_bayes import MultinomialNB\n",
    "import numpy as np"
   ]
  },
  {
   "cell_type": "markdown",
   "metadata": {},
   "source": [
    "Så setter vi opp dataene"
   ]
  },
  {
   "cell_type": "code",
   "execution_count": 2,
   "metadata": {
    "collapsed": true
   },
   "outputs": [],
   "source": [
    "data = np.array([\n",
    "    [\"Hei\", 0],\n",
    "    [\"God morgen\", 0],\n",
    "    [\"God kveld\", 0],\n",
    "    [\"God dag\", 0],\n",
    "    [\"Ha det bra\", 1],\n",
    "    [\"God natt, vi snakkes!\", 1],\n",
    "    [\"Vi ses\", 1],\n",
    "    [\"Snakkes!\", 1],\n",
    "    [\"Er det morgen?\", 2],\n",
    "    [\"Er det kveld?\", 2],\n",
    "    [\"Er det natt?\", 2]\n",
    "])\n",
    "sentences = data[:,0]\n",
    "Y = data[:,1]"
   ]
  },
  {
   "cell_type": "markdown",
   "metadata": {},
   "source": [
    "Her er setningene"
   ]
  },
  {
   "cell_type": "code",
   "execution_count": 3,
   "metadata": {},
   "outputs": [
    {
     "name": "stdout",
     "output_type": "stream",
     "text": [
      "['Hei' 'God morgen' 'God kveld' 'God dag' 'Ha det bra'\n",
      " 'God natt, vi snakkes!' 'Vi ses' 'Snakkes!' 'Er det morgen?'\n",
      " 'Er det kveld?' 'Er det natt?']\n"
     ]
    }
   ],
   "source": [
    "print(sentences)"
   ]
  },
  {
   "cell_type": "markdown",
   "metadata": {},
   "source": [
    "Setningene må gjøres om til tall, så vi bruker bare en standard vectorizer. Det samme som vi gjorde tidligere i presentasjonen."
   ]
  },
  {
   "cell_type": "code",
   "execution_count": 4,
   "metadata": {
    "collapsed": true
   },
   "outputs": [],
   "source": [
    "count_vect = CountVectorizer()\n",
    "X = count_vect.fit_transform(sentences)"
   ]
  },
  {
   "cell_type": "markdown",
   "metadata": {},
   "source": [
    "Her er ordene den trakk ut av dataene våre. Samme som det vi hadde i presentasjonen, bare sortert."
   ]
  },
  {
   "cell_type": "code",
   "execution_count": 5,
   "metadata": {
    "scrolled": true
   },
   "outputs": [
    {
     "name": "stdout",
     "output_type": "stream",
     "text": [
      "['bra', 'dag', 'det', 'er', 'god', 'ha', 'hei', 'kveld', 'morgen', 'natt', 'ses', 'snakkes', 'vi']\n"
     ]
    }
   ],
   "source": [
    "print(count_vect.get_feature_names())"
   ]
  },
  {
   "cell_type": "markdown",
   "metadata": {},
   "source": [
    "Og setningene har da blitt til følgende matrise"
   ]
  },
  {
   "cell_type": "code",
   "execution_count": 6,
   "metadata": {
    "scrolled": true
   },
   "outputs": [
    {
     "name": "stdout",
     "output_type": "stream",
     "text": [
      "[[0 0 0 0 0 0 1 0 0 0 0 0 0]\n",
      " [0 0 0 0 1 0 0 0 1 0 0 0 0]\n",
      " [0 0 0 0 1 0 0 1 0 0 0 0 0]\n",
      " [0 1 0 0 1 0 0 0 0 0 0 0 0]\n",
      " [1 0 1 0 0 1 0 0 0 0 0 0 0]\n",
      " [0 0 0 0 1 0 0 0 0 1 0 1 1]\n",
      " [0 0 0 0 0 0 0 0 0 0 1 0 1]\n",
      " [0 0 0 0 0 0 0 0 0 0 0 1 0]\n",
      " [0 0 1 1 0 0 0 0 1 0 0 0 0]\n",
      " [0 0 1 1 0 0 0 1 0 0 0 0 0]\n",
      " [0 0 1 1 0 0 0 0 0 1 0 0 0]]\n"
     ]
    }
   ],
   "source": [
    "print(X.toarray())"
   ]
  },
  {
   "cell_type": "markdown",
   "metadata": {},
   "source": [
    "Da er vi klar for klassifisering. Vi bruker en Multinominal Naive Bayes. Vi trener nå på modellen til klassifieren med\n",
    "* X - arrayet over ordene i setningene\n",
    "* Y - listen med klasser for hver setning"
   ]
  },
  {
   "cell_type": "code",
   "execution_count": 7,
   "metadata": {},
   "outputs": [
    {
     "data": {
      "text/plain": [
       "(11, 13)"
      ]
     },
     "execution_count": 7,
     "metadata": {},
     "output_type": "execute_result"
    }
   ],
   "source": [
    "X.shape"
   ]
  },
  {
   "cell_type": "code",
   "execution_count": 8,
   "metadata": {},
   "outputs": [
    {
     "data": {
      "text/plain": [
       "(11,)"
      ]
     },
     "execution_count": 8,
     "metadata": {},
     "output_type": "execute_result"
    }
   ],
   "source": [
    "Y.shape"
   ]
  },
  {
   "cell_type": "code",
   "execution_count": 9,
   "metadata": {
    "collapsed": true
   },
   "outputs": [],
   "source": [
    "classifyer = MultinomialNB().fit(X, Y)"
   ]
  },
  {
   "cell_type": "markdown",
   "metadata": {},
   "source": [
    "Da er klassifieren ferdig trent. \n",
    "Nå må vi teste den.\n",
    "\n",
    "Først må vi gjøre om teksten vi vil teste med til en vector."
   ]
  },
  {
   "cell_type": "code",
   "execution_count": 10,
   "metadata": {},
   "outputs": [
    {
     "data": {
      "text/plain": [
       "array([[0, 0, 0, 0, 0, 0, 1, 0, 0, 0, 0, 0, 0]], dtype=int64)"
      ]
     },
     "execution_count": 10,
     "metadata": {},
     "output_type": "execute_result"
    }
   ],
   "source": [
    "test=[\"Hei på deg\"]\n",
    "testX = count_vect.transform(test)\n",
    "testX.toarray()"
   ]
  },
  {
   "cell_type": "markdown",
   "metadata": {},
   "source": [
    "Da kan vi la klassifieren prøve å finne ut hvilken klasse den skal plassere teksten i."
   ]
  },
  {
   "cell_type": "code",
   "execution_count": 11,
   "metadata": {},
   "outputs": [
    {
     "data": {
      "text/plain": [
       "array(['0'],\n",
       "      dtype='<U1')"
      ]
     },
     "execution_count": 11,
     "metadata": {},
     "output_type": "execute_result"
    }
   ],
   "source": [
    "predictedY=classifyer.predict(testX);\n",
    "predictedY"
   ]
  },
  {
   "cell_type": "markdown",
   "metadata": {},
   "source": [
    "Vi kan også se hva de andre klassene fikk av sannsynlighet."
   ]
  },
  {
   "cell_type": "code",
   "execution_count": 12,
   "metadata": {},
   "outputs": [
    {
     "data": {
      "text/plain": [
       "array([[ 0.56316082,  0.24485253,  0.19198664]])"
      ]
     },
     "execution_count": 12,
     "metadata": {},
     "output_type": "execute_result"
    }
   ],
   "source": [
    "classifyer.predict_proba(testX)"
   ]
  },
  {
   "cell_type": "markdown",
   "metadata": {},
   "source": [
    "Hvorfor har ikke klasse 0 fått en sannsynlighet på 1?"
   ]
  }
 ],
 "metadata": {
  "kernelspec": {
   "display_name": "Python 3",
   "language": "python",
   "name": "python3"
  },
  "language_info": {
   "codemirror_mode": {
    "name": "ipython",
    "version": 3
   },
   "file_extension": ".py",
   "mimetype": "text/x-python",
   "name": "python",
   "nbconvert_exporter": "python",
   "pygments_lexer": "ipython3",
   "version": "3.5.0"
  }
 },
 "nbformat": 4,
 "nbformat_minor": 2
}
